{
 "cells": [
  {
   "cell_type": "markdown",
   "source": [
    "# Multivariate `decompose_polynomial` testing"
   ],
   "metadata": {
    "collapsed": false
   }
  },
  {
   "cell_type": "markdown",
   "source": [
    "### Try, [Python Debugger](https://docs.python.org/3/library/pdb.html)"
   ],
   "metadata": {
    "collapsed": false
   }
  },
  {
   "cell_type": "markdown",
   "source": [
    "#### format;  `{(x_exponent, y_exponent, z_exponent): coefficient, ... }` for term in terms."
   ],
   "metadata": {
    "collapsed": false
   }
  },
  {
   "cell_type": "code",
   "execution_count": 1,
   "metadata": {
    "collapsed": true
   },
   "outputs": [],
   "source": [
    "from py_files.poly_dict_multi_tuple import decompose_polynomial"
   ]
  },
  {
   "cell_type": "markdown",
   "source": [
    "## Testing,"
   ],
   "metadata": {
    "collapsed": false
   }
  },
  {
   "cell_type": "code",
   "execution_count": 2,
   "outputs": [
    {
     "name": "stdout",
     "output_type": "stream",
     "text": [
      "{2: 1.0, 1: -3.0, 0: 2.0}\n"
     ]
    }
   ],
   "source": [
    "poly1 = decompose_polynomial(\"x^2 - 3*x + 2\")\n",
    "print(poly1)"
   ],
   "metadata": {
    "collapsed": false
   }
  },
  {
   "cell_type": "code",
   "execution_count": 3,
   "outputs": [
    {
     "name": "stdout",
     "output_type": "stream",
     "text": [
      "{(3, 2, 0): 2.0, (1, 1, 1): 3.0, (0, 0, 1): 1.0}\n"
     ]
    }
   ],
   "source": [
    "mpoly1 = decompose_polynomial(\"2*x^3*y^2 + 3*x*y*z + z\")\n",
    "print(mpoly1)"
   ],
   "metadata": {
    "collapsed": false
   }
  },
  {
   "cell_type": "markdown",
   "source": [
    "##### Testing formulas with invalid variables"
   ],
   "metadata": {
    "collapsed": false
   }
  },
  {
   "cell_type": "code",
   "execution_count": 4,
   "outputs": [],
   "source": [
    "try:\n",
    "    decompose_polynomial(\"x^2 + r^2\")  # Invalid variable 'r' in uni-variate polynomial\n",
    "    assert False, \"Expected ValueError but none was raised\"\n",
    "except ValueError:\n",
    "    pass"
   ],
   "metadata": {
    "collapsed": false
   }
  },
  {
   "cell_type": "code",
   "execution_count": 5,
   "outputs": [],
   "source": [
    "try:\n",
    "    decompose_polynomial(\"x^2*y + z*r\")  # Invalid variable 'r' in multivariate polynomial\n",
    "    assert False, \"Expected ValueError but none was raised\"\n",
    "except ValueError:\n",
    "    pass"
   ],
   "metadata": {
    "collapsed": false
   }
  },
  {
   "cell_type": "code",
   "execution_count": 6,
   "outputs": [],
   "source": [
    "# Testing formulas without variables\n",
    "try:\n",
    "    decompose_polynomial(\"2^2 + 3^3\")  # No variables\n",
    "    assert False, \"Expected ValueError but none was raised\"\n",
    "except ValueError:\n",
    "    pass"
   ],
   "metadata": {
    "collapsed": false
   }
  },
  {
   "cell_type": "markdown",
   "source": [
    "## Testing with `py_test`"
   ],
   "metadata": {
    "collapsed": false
   }
  },
  {
   "cell_type": "markdown",
   "source": [
    "<img src=\"images/py_test.png\"/>"
   ],
   "metadata": {
    "collapsed": false
   }
  },
  {
   "cell_type": "markdown",
   "source": [
    "input space is infinite in the case of polynomial expressions. Need to try:\n",
    "\n",
    "- Edge Cases: These are cases at the extreme ends of your input domain. For example, the smallest or largest possible inputs, or inputs that are in some way extreme (e.g., very long polynomials, polynomials with extremely large or small coefficients, or very high degrees).\n",
    "- Random Testing: Generate random test cases within a certain range. This can help catch unexpected issues and makes your testing less biased towards the cases you can think of.\n",
    "- Regression Testing: If you find a bug, add a test case that would have caught that bug. This helps to ensure that the bug doesn't reappear in future versions of the code.\n",
    "- Testing Different Aspects Separately: You might want to test the handling of addition, subtraction, and multiplication separately, as well as the interaction between them. Also test how the function handles different variable names and different orders of terms.\n",
    "\n",
    "considering some of the following specific test cases:\n",
    "\n",
    "- only one term.\n",
    "- all terms positive.\n",
    "- all terms negative.\n",
    "-  mix of positive and negative terms.\n",
    "- coefficients of 1 or -1 (since these might be represented differently).\n",
    "- terms are not in the standard order (e.g., the term with the highest degree is not first).\n",
    "- variables other than x, y, and z.\n",
    "- invalid characters or syntax.\n",
    "- same term appears multiple times\n",
    "\n",
    "&nbsp;\n",
    "goal is to test a wide enough variety of cases that we can be confident the function will work correctly on any valid input."
   ],
   "metadata": {
    "collapsed": false
   }
  },
  {
   "cell_type": "markdown",
   "source": [
    "-----"
   ],
   "metadata": {
    "collapsed": false
   }
  },
  {
   "cell_type": "code",
   "execution_count": 4,
   "outputs": [
    {
     "name": "stdout",
     "output_type": "stream",
     "text": [
      "{3: 2.0, 2: 2.0, 1: -3.0, 0: -1.0}\n"
     ]
    }
   ],
   "source": [
    "poly2 = decompose_polynomial(\"2*x^3+2*x^2- 3*x  -1\")\n",
    "print(poly2)"
   ],
   "metadata": {
    "collapsed": false
   }
  },
  {
   "cell_type": "code",
   "execution_count": 5,
   "outputs": [
    {
     "name": "stdout",
     "output_type": "stream",
     "text": [
      "{(3, 2, 1): -4.0, (2, 1, 1): 2.0, (1, 1, 1): -1.0, (1, 0, 0): 1.0, (0, 0, 1): -1.0, (0, 0, 0): -10.0}\n"
     ]
    }
   ],
   "source": [
    "mpoly2 = decompose_polynomial(\"-4*x^3*y^2*z+2*x^2*y*z-x*y*z+x-z-10\")\n",
    "print(mpoly2)"
   ],
   "metadata": {
    "collapsed": false
   }
  },
  {
   "cell_type": "code",
   "execution_count": 6,
   "outputs": [
    {
     "name": "stdout",
     "output_type": "stream",
     "text": [
      "{(8, 3, 0): 5.0, (5, 0, 0): 3.0, (0, 7, 3): 3.0, (1, 0, 2): -4.0, (3, 0, 0): -1.0, (0, 2, 0): -1.0, (0, 0, 4): -1.0, (0, 0, 1): 1.0, (1, 0, 0): 1.0, (0, 1, 0): -1.0, (0, 0, 0): 27.0}\n"
     ]
    }
   ],
   "source": [
    "mpoly3 = decompose_polynomial(\"5*x^8*y^3+3*x^5+3*y^7*z^3-4*z^2*x-x^3-y^2-z^4+z+x-y+27\")\n",
    "print(mpoly3)"
   ],
   "metadata": {
    "collapsed": false
   }
  },
  {
   "cell_type": "markdown",
   "source": [
    "Test for floating point coefficients"
   ],
   "metadata": {
    "collapsed": false
   }
  },
  {
   "cell_type": "code",
   "execution_count": 8,
   "outputs": [
    {
     "name": "stdout",
     "output_type": "stream",
     "text": [
      "{(8, 3, 0): 5.2, (5, 0, 0): 3.2, (0, 7, 3): 3.7, (1, 0, 2): -4.5, (3, 0, 0): -1.0, (0, 2, 0): -1.0, (0, 0, 4): -1.0, (0, 0, 1): 1.0, (1, 0, 0): 1.0, (0, 1, 0): -1.0, (0, 0, 0): 27.0}\n"
     ]
    }
   ],
   "source": [
    "mpoly4 = decompose_polynomial(\"5.2*x^8*y^3+3.2*x^5+3.7*y^7*z^3-4.5*z^2*x-x^3-y^2-z^4+z+x-y+27\")\n",
    "print(mpoly4)"
   ],
   "metadata": {
    "collapsed": false
   }
  },
  {
   "cell_type": "code",
   "execution_count": null,
   "outputs": [],
   "source": [],
   "metadata": {
    "collapsed": false
   }
  }
 ],
 "metadata": {
  "kernelspec": {
   "display_name": "Python 3",
   "language": "python",
   "name": "python3"
  },
  "language_info": {
   "codemirror_mode": {
    "name": "ipython",
    "version": 2
   },
   "file_extension": ".py",
   "mimetype": "text/x-python",
   "name": "python",
   "nbconvert_exporter": "python",
   "pygments_lexer": "ipython2",
   "version": "2.7.6"
  }
 },
 "nbformat": 4,
 "nbformat_minor": 0
}
