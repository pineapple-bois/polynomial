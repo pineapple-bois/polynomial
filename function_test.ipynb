{
 "cells": [
  {
   "cell_type": "markdown",
   "source": [
    "# Exploration of the `Polynomial` class"
   ],
   "metadata": {
    "collapsed": false
   }
  },
  {
   "cell_type": "code",
   "execution_count": 1,
   "metadata": {
    "collapsed": true
   },
   "outputs": [],
   "source": [
    "import numpy as np\n",
    "import matplotlib.pyplot as plt"
   ]
  },
  {
   "cell_type": "code",
   "execution_count": 2,
   "outputs": [],
   "source": [
    "from py_files.poly_dict import decompose_polynomial\n",
    "from py_files.polynomial_class import Polynomial"
   ],
   "metadata": {
    "collapsed": false
   }
  },
  {
   "cell_type": "markdown",
   "source": [
    "----"
   ],
   "metadata": {
    "collapsed": false
   }
  },
  {
   "cell_type": "markdown",
   "source": [
    "## Addition, Subtraction and Multiplication"
   ],
   "metadata": {
    "collapsed": false
   }
  },
  {
   "cell_type": "markdown",
   "source": [
    "The `Polynomial` class used in conjunction with the `decompose_polynomial` module allow swift input and evaluation of polynomial expressions.\n",
    "The function takes `str` input and can handle arbitrary spaces and exponents entered `**` or `^`"
   ],
   "metadata": {
    "collapsed": false
   }
  },
  {
   "cell_type": "code",
   "execution_count": 3,
   "outputs": [],
   "source": [
    "poly1 = decompose_polynomial(\"x**2  +5*x-3\")\n",
    "poly2 = decompose_polynomial(\"2*x^3+2*x^2- 3*x  -1\")\n",
    "poly3 = decompose_polynomial(\"7*x**8  + 3*x^5+   2*x^3+2*x-9\")\n",
    "poly4 = decompose_polynomial(\"5*x^6 -4*x^3+   x^2+5*x  -8\")\n",
    "poly5 = decompose_polynomial(\"7*x^9+3*x^4+2*x^2+x-2\")"
   ],
   "metadata": {
    "collapsed": false
   }
  },
  {
   "cell_type": "code",
   "execution_count": 4,
   "outputs": [],
   "source": [
    "p1 = Polynomial(poly1)\n",
    "p2 = Polynomial(poly2)\n",
    "p3 = Polynomial(poly3)\n",
    "p4 = Polynomial(poly4)\n",
    "p5 = Polynomial(poly5)"
   ],
   "metadata": {
    "collapsed": false
   }
  },
  {
   "cell_type": "markdown",
   "source": [
    "Printing instances of the `Polynomial` class outputs terms `coefficient * x^power` to aid readability"
   ],
   "metadata": {
    "collapsed": false
   }
  },
  {
   "cell_type": "code",
   "execution_count": 5,
   "outputs": [
    {
     "name": "stdout",
     "output_type": "stream",
     "text": [
      "p1: x^2 + 5 * x - 3\n",
      "p2: 2 * x^3 + 2 * x^2 - 3 * x - 1\n",
      "p3: 7 * x^8 + 3 * x^5 + 2 * x^3 + 2 * x - 9\n",
      "p4: 5 * x^6 - 4 * x^3 + x^2 + 5 * x - 8\n",
      "p5: 7 * x^9 + 3 * x^4 + 2 * x^2 + x - 2\n"
     ]
    }
   ],
   "source": [
    "print(f\"p1: {p1}\")\n",
    "print(f\"p2: {p2}\")\n",
    "print(f\"p3: {p3}\")\n",
    "print(f\"p4: {p4}\")\n",
    "print(f\"p5: {p5}\")"
   ],
   "metadata": {
    "collapsed": false
   }
  },
  {
   "cell_type": "markdown",
   "source": [
    "Testing the output of `+`, `-` and `*` by iterating through the declared instances"
   ],
   "metadata": {
    "collapsed": false
   }
  },
  {
   "cell_type": "code",
   "execution_count": 6,
   "outputs": [
    {
     "name": "stdout",
     "output_type": "stream",
     "text": [
      "p1_add_p2: 2 * x^3 + 3 * x^2 + 2 * x - 4\n",
      "p1_sub_p2: -2 * x^3 - x^2 + 8 * x - 2\n",
      "p1_mul_p2: 2 * x^5 + 12 * x^4 + x^3 - 22 * x^2 + 4 * x + 3\n",
      "\n",
      "p1_add_p3: 7 * x^8 + 3 * x^5 + 2 * x^3 + x^2 + 7 * x - 12\n",
      "p1_sub_p3: -7 * x^8 - 3 * x^5 - 2 * x^3 + x^2 + 3 * x + 6\n",
      "p1_mul_p3: 7 * x^10 + 35 * x^9 - 21 * x^8 + 3 * x^7 + 15 * x^6 - 7 * x^5 + 10 * x^4 - 4 * x^3 + x^2 - 51 * x + 27\n",
      "\n",
      "p1_add_p4: 5 * x^6 - 4 * x^3 + 2 * x^2 + 10 * x - 11\n",
      "p1_sub_p4: -5 * x^6 + 4 * x^3 + 5\n",
      "p1_mul_p4: 5 * x^8 + 25 * x^7 - 15 * x^6 - 4 * x^5 - 19 * x^4 + 22 * x^3 + 14 * x^2 - 55 * x + 24\n",
      "\n",
      "p1_add_p5: 7 * x^9 + 3 * x^4 + 3 * x^2 + 6 * x - 5\n",
      "p1_sub_p5: -7 * x^9 - 3 * x^4 - x^2 + 4 * x - 1\n",
      "p1_mul_p5: 7 * x^11 + 35 * x^10 - 21 * x^9 + 3 * x^6 + 15 * x^5 - 7 * x^4 + 11 * x^3 - 3 * x^2 - 13 * x + 6\n",
      "\n"
     ]
    }
   ],
   "source": [
    "polynomials = [p2, p3, p4, p5]\n",
    "\n",
    "for idx, polynomial in enumerate(polynomials, start=2):\n",
    "    p_add = p1 + polynomial\n",
    "    p_sub = p1 - polynomial\n",
    "    p_mul = p1 * polynomial\n",
    "\n",
    "    print(f\"p1_add_p{idx}: {p_add}\")\n",
    "    print(f\"p1_sub_p{idx}: {p_sub}\")\n",
    "    print(f\"p1_mul_p{idx}: {p_mul}\")\n",
    "    print()"
   ],
   "metadata": {
    "collapsed": false
   }
  },
  {
   "cell_type": "markdown",
   "source": [
    "Confirmed with Maxima CAS"
   ],
   "metadata": {
    "collapsed": false
   }
  },
  {
   "cell_type": "markdown",
   "source": [
    "<img src=\"images/maxima_oper.png\"/>"
   ],
   "metadata": {
    "collapsed": false
   }
  },
  {
   "cell_type": "markdown",
   "source": [
    "----"
   ],
   "metadata": {
    "collapsed": false
   }
  },
  {
   "cell_type": "markdown",
   "source": [
    "## Quadratic"
   ],
   "metadata": {
    "collapsed": false
   }
  },
  {
   "cell_type": "code",
   "execution_count": 7,
   "outputs": [
    {
     "data": {
      "text/plain": "'Polynomial({2: 1, 1: 5, 0: -3})'"
     },
     "execution_count": 7,
     "metadata": {},
     "output_type": "execute_result"
    }
   ],
   "source": [
    "# the decompose_polynomial function creates a dictionary {exponents: coefficients}\n",
    "p1.__repr__()"
   ],
   "metadata": {
    "collapsed": false
   }
  },
  {
   "cell_type": "code",
   "execution_count": 8,
   "outputs": [
    {
     "data": {
      "text/plain": "{'coeff': {2: 1, 1: 5, 0: -3}}"
     },
     "execution_count": 8,
     "metadata": {},
     "output_type": "execute_result"
    }
   ],
   "source": [
    "p1.__dict__"
   ],
   "metadata": {
    "collapsed": false
   }
  },
  {
   "cell_type": "code",
   "execution_count": 9,
   "outputs": [
    {
     "name": "stdout",
     "output_type": "stream",
     "text": [
      "x^2 + 5 * x - 3\n"
     ]
    }
   ],
   "source": [
    "print(p1)"
   ],
   "metadata": {
    "collapsed": false
   }
  },
  {
   "cell_type": "code",
   "execution_count": 10,
   "outputs": [
    {
     "data": {
      "text/plain": "21"
     },
     "execution_count": 10,
     "metadata": {},
     "output_type": "execute_result"
    }
   ],
   "source": [
    "# calling to evaluate at x = 3\n",
    "p1(3)"
   ],
   "metadata": {
    "collapsed": false
   }
  },
  {
   "cell_type": "markdown",
   "source": [
    "Plotting the quadratic expression"
   ],
   "metadata": {
    "collapsed": false
   }
  },
  {
   "cell_type": "code",
   "execution_count": 11,
   "outputs": [
    {
     "data": {
      "text/plain": "<Figure size 640x480 with 1 Axes>",
      "image/png": "[encoded data removed]"
     },
     "metadata": {},
     "output_type": "display_data"
    }
   ],
   "source": [
    "p1.plot(-10, 5)"
   ],
   "metadata": {
    "collapsed": false
   }
  },
  {
   "cell_type": "markdown",
   "source": [
    "The plot aids the initial guess `x0` in `newton`\n",
    "`newton` returns tuple (`root`, `converged`, `iterations`)"
   ],
   "metadata": {
    "collapsed": false
   }
  },
  {
   "cell_type": "code",
   "execution_count": 12,
   "outputs": [
    {
     "data": {
      "text/plain": "(0.5413812785388128, True, 1)"
     },
     "execution_count": 12,
     "metadata": {},
     "output_type": "execute_result"
    }
   ],
   "source": [
    "p1.newton(0.5)"
   ],
   "metadata": {
    "collapsed": false
   }
  },
  {
   "cell_type": "code",
   "execution_count": 13,
   "outputs": [
    {
     "data": {
      "text/plain": "(-5.541381315636438, True, 2)"
     },
     "execution_count": 13,
     "metadata": {},
     "output_type": "execute_result"
    }
   ],
   "source": [
    "p1.newton(-5)"
   ],
   "metadata": {
    "collapsed": false
   }
  },
  {
   "cell_type": "code",
   "execution_count": 14,
   "outputs": [
    {
     "data": {
      "text/plain": "(-5.541382028844698, True, 5)"
     },
     "execution_count": 14,
     "metadata": {},
     "output_type": "execute_result"
    }
   ],
   "source": [
    "# More iterations to converge when further from root\n",
    "p1.newton(-15)"
   ],
   "metadata": {
    "collapsed": false
   }
  },
  {
   "cell_type": "markdown",
   "source": [
    "Roots confirmed in Maxima CAS"
   ],
   "metadata": {
    "collapsed": false
   }
  },
  {
   "cell_type": "markdown",
   "source": [
    "<img src=\"images/maxima_quad.png\"/>"
   ],
   "metadata": {
    "collapsed": false
   }
  },
  {
   "cell_type": "markdown",
   "source": [
    "#### Calculus"
   ],
   "metadata": {
    "collapsed": false
   }
  },
  {
   "cell_type": "code",
   "execution_count": 15,
   "outputs": [
    {
     "name": "stdout",
     "output_type": "stream",
     "text": [
      "2 * x + 5\n"
     ]
    }
   ],
   "source": [
    "# Derivative\n",
    "\n",
    "dp1dx = p1.derivative()\n",
    "print(dp1dx)"
   ],
   "metadata": {
    "collapsed": false
   }
  },
  {
   "cell_type": "code",
   "execution_count": 16,
   "outputs": [
    {
     "data": {
      "text/plain": "<Figure size 640x480 with 1 Axes>",
      "image/png": "[encoded data removed]"
     },
     "metadata": {},
     "output_type": "display_data"
    }
   ],
   "source": [
    "# we can also plot the derivative\n",
    "dp1dx.plot(-5, 0)"
   ],
   "metadata": {
    "collapsed": false
   }
  },
  {
   "cell_type": "code",
   "execution_count": null,
   "outputs": [],
   "source": [
    "# Integral\n",
    "\n"
   ],
   "metadata": {
    "collapsed": false
   }
  },
  {
   "cell_type": "markdown",
   "source": [
    "----"
   ],
   "metadata": {
    "collapsed": false
   }
  },
  {
   "cell_type": "markdown",
   "source": [
    "## Cubic"
   ],
   "metadata": {
    "collapsed": false
   }
  },
  {
   "cell_type": "code",
   "execution_count": 17,
   "outputs": [
    {
     "data": {
      "text/plain": "'Polynomial({3: 2, 2: 2, 1: -3, 0: -1})'"
     },
     "execution_count": 17,
     "metadata": {},
     "output_type": "execute_result"
    }
   ],
   "source": [
    "p2.__repr__()"
   ],
   "metadata": {
    "collapsed": false
   }
  },
  {
   "cell_type": "code",
   "execution_count": 18,
   "outputs": [
    {
     "name": "stdout",
     "output_type": "stream",
     "text": [
      "2 * x^3 + 2 * x^2 - 3 * x - 1\n"
     ]
    }
   ],
   "source": [
    "print(p2)"
   ],
   "metadata": {
    "collapsed": false
   }
  },
  {
   "cell_type": "code",
   "execution_count": 19,
   "outputs": [
    {
     "data": {
      "text/plain": "<Figure size 640x480 with 1 Axes>",
      "image/png": "[encoded data removed]"
     },
     "metadata": {},
     "output_type": "display_data"
    }
   ],
   "source": [
    "p2.plot(-2, 2)"
   ],
   "metadata": {
    "collapsed": false
   }
  },
  {
   "cell_type": "markdown",
   "source": [
    "The plot shows three roots $\\in \\mathbb{R}$"
   ],
   "metadata": {
    "collapsed": false
   }
  },
  {
   "cell_type": "code",
   "execution_count": 20,
   "outputs": [
    {
     "data": {
      "text/plain": "(-1.707131490726658, True, 3)"
     },
     "execution_count": 20,
     "metadata": {},
     "output_type": "execute_result"
    }
   ],
   "source": [
    "p2.newton(-1.5)"
   ],
   "metadata": {
    "collapsed": false
   }
  },
  {
   "cell_type": "code",
   "execution_count": 21,
   "outputs": [
    {
     "data": {
      "text/plain": "(-0.2928970470869912, True, 2)"
     },
     "execution_count": 21,
     "metadata": {},
     "output_type": "execute_result"
    }
   ],
   "source": [
    "p2.newton(-0.5)"
   ],
   "metadata": {
    "collapsed": false
   }
  },
  {
   "cell_type": "code",
   "execution_count": 22,
   "outputs": [
    {
     "data": {
      "text/plain": "(0.5415282392026578, True, 2)"
     },
     "execution_count": 22,
     "metadata": {},
     "output_type": "execute_result"
    }
   ],
   "source": [
    "p1.newton(1.0)"
   ],
   "metadata": {
    "collapsed": false
   }
  },
  {
   "cell_type": "markdown",
   "source": [
    "##### `newton` has failed to find $x=1$\n",
    "This root probably requires the bisection method"
   ],
   "metadata": {
    "collapsed": false
   }
  },
  {
   "cell_type": "markdown",
   "source": [
    "<img src=\"images/maxima_cube.png\"/>"
   ],
   "metadata": {
    "collapsed": false
   }
  },
  {
   "cell_type": "markdown",
   "source": [
    "----"
   ],
   "metadata": {
    "collapsed": false
   }
  },
  {
   "cell_type": "markdown",
   "source": [
    "### Calculus"
   ],
   "metadata": {
    "collapsed": false
   }
  },
  {
   "cell_type": "code",
   "execution_count": 23,
   "outputs": [
    {
     "name": "stdout",
     "output_type": "stream",
     "text": [
      "6 * x^2 + 4 * x - 3\n"
     ]
    }
   ],
   "source": [
    "# Derivative\n",
    "\n",
    "dp2dx = p2.derivative()\n",
    "print(dp2dx)"
   ],
   "metadata": {
    "collapsed": false
   }
  },
  {
   "cell_type": "code",
   "execution_count": 24,
   "outputs": [
    {
     "data": {
      "text/plain": "<Figure size 640x480 with 1 Axes>",
      "image/png": "[encoded data removed]"
     },
     "metadata": {},
     "output_type": "display_data"
    }
   ],
   "source": [
    "dp2dx.plot(-2, 2)"
   ],
   "metadata": {
    "collapsed": false
   }
  },
  {
   "cell_type": "code",
   "execution_count": 25,
   "outputs": [
    {
     "name": "stdout",
     "output_type": "stream",
     "text": [
      "(-1.1151315789473684, True, 2)\n",
      "(0.44840425531914896, True, 2)\n"
     ]
    }
   ],
   "source": [
    "# Finding roots of quadratic function which will be the stationary points of f\n",
    "\n",
    "root1 = dp2dx.newton(-1.0)\n",
    "print(root1)\n",
    "\n",
    "root2 = dp2dx.newton(0.5)\n",
    "print(root2)"
   ],
   "metadata": {
    "collapsed": false
   }
  },
  {
   "cell_type": "markdown",
   "source": [
    "We can implement the second derivative test by calling the first element of tuple `root_n` to the second derivative\n",
    "\n",
    "- if $f''(x) < 0,$ then $f$ has a local minimum at $x$\n",
    "- if $f''(x) > 0,$ then $f$ has a local maximum at $x$\n",
    "- if $f''(x) = 0,$ then the test is inconclusive"
   ],
   "metadata": {
    "collapsed": false
   }
  },
  {
   "cell_type": "code",
   "execution_count": 26,
   "outputs": [
    {
     "name": "stdout",
     "output_type": "stream",
     "text": [
      "12 * x + 4\n"
     ]
    }
   ],
   "source": [
    "# second derivative\n",
    "d2dp2dx = dp2dx.derivative()\n",
    "print(d2dp2dx)"
   ],
   "metadata": {
    "collapsed": false
   }
  },
  {
   "cell_type": "code",
   "execution_count": 27,
   "outputs": [
    {
     "data": {
      "text/plain": "-9.381578947368421"
     },
     "execution_count": 27,
     "metadata": {},
     "output_type": "execute_result"
    }
   ],
   "source": [
    "sp1 = d2dp2dx(root1[0])\n",
    "sp1"
   ],
   "metadata": {
    "collapsed": false
   }
  },
  {
   "cell_type": "code",
   "execution_count": 28,
   "outputs": [
    {
     "data": {
      "text/plain": "9.380851063829788"
     },
     "execution_count": 28,
     "metadata": {},
     "output_type": "execute_result"
    }
   ],
   "source": [
    "sp2 = d2dp2dx(root2[0])\n",
    "sp2"
   ],
   "metadata": {
    "collapsed": false
   }
  },
  {
   "cell_type": "code",
   "execution_count": 29,
   "outputs": [
    {
     "name": "stdout",
     "output_type": "stream",
     "text": [
      "The stationary point -1.115 is a local minimum\n",
      "The stationary point 0.448 is a local maximum\n"
     ]
    }
   ],
   "source": [
    "roots = [root1[0], root2[0]]\n",
    "sp_s = [sp1, sp2]\n",
    "for i, sp in enumerate(sp_s):\n",
    "    if sp < 0:\n",
    "        print(f\"The stationary point {round(roots[i], 3)} is a local minimum\")\n",
    "    elif sp > 0:\n",
    "        print(f\"The stationary point {round(roots[i], 3)} is a local maximum\")\n",
    "    else:\n",
    "        print(\"The second derivative test is inconclusive\")"
   ],
   "metadata": {
    "collapsed": false
   }
  },
  {
   "cell_type": "code",
   "execution_count": 30,
   "outputs": [
    {
     "data": {
      "text/plain": "<Figure size 640x480 with 1 Axes>",
      "image/png": "[encoded data removed]"
     },
     "metadata": {},
     "output_type": "display_data"
    }
   ],
   "source": [
    "# As can be seen from the plot of f(x)\n",
    "p2.plot(-2, 1.5)"
   ],
   "metadata": {
    "collapsed": false
   }
  },
  {
   "cell_type": "markdown",
   "source": [
    "----"
   ],
   "metadata": {
    "collapsed": false
   }
  }
 ],
 "metadata": {
  "kernelspec": {
   "display_name": "Python 3",
   "language": "python",
   "name": "python3"
  },
  "language_info": {
   "codemirror_mode": {
    "name": "ipython",
    "version": 2
   },
   "file_extension": ".py",
   "mimetype": "text/x-python",
   "name": "python",
   "nbconvert_exporter": "python",
   "pygments_lexer": "ipython2",
   "version": "2.7.6"
  }
 },
 "nbformat": 4,
 "nbformat_minor": 0
}
