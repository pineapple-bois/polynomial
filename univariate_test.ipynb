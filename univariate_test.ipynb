{
 "cells": [
  {
   "cell_type": "markdown",
   "source": [
    "# `Polynomial` testing"
   ],
   "metadata": {
    "collapsed": false
   }
  },
  {
   "cell_type": "code",
   "execution_count": 2,
   "outputs": [],
   "source": [
    "import numpy as np\n",
    "import matplotlib.pyplot as plt"
   ],
   "metadata": {
    "collapsed": false
   }
  },
  {
   "cell_type": "code",
   "execution_count": 3,
   "metadata": {
    "collapsed": true
   },
   "outputs": [],
   "source": [
    "from py_files.poly_dict import decompose_polynomial\n",
    "from py_files.polynomial_class import Polynomial"
   ]
  },
  {
   "cell_type": "markdown",
   "source": [
    "The `Polynomial` class used in conjunction with the `decompose_polynomial` module allow swift input and evaluation of polynomial expressions.\n",
    "The function takes `str` input with variable $x$. It can handle arbitrary spaces, and exponents entered `**` or `^`"
   ],
   "metadata": {
    "collapsed": false
   }
  },
  {
   "cell_type": "code",
   "execution_count": 4,
   "outputs": [],
   "source": [
    "poly1 = decompose_polynomial(\"x**2  +5*x-3\")\n",
    "poly2 = decompose_polynomial(\"2*x^3+2*x^2- 3*x  -1\")\n",
    "poly3 = decompose_polynomial(\"7*x**8  + 3*x^5+   2*x^3+2*x-9\")\n",
    "poly4 = decompose_polynomial(\"5*x^6 -4*x^3+   x^2+5*x  -8\")\n",
    "poly5 = decompose_polynomial(\"7*x^9+3*x^4+2*x^2+x-2\")"
   ],
   "metadata": {
    "collapsed": false
   }
  },
  {
   "cell_type": "code",
   "execution_count": 5,
   "outputs": [],
   "source": [
    "p1 = Polynomial(poly1)\n",
    "p2 = Polynomial(poly2)\n",
    "p3 = Polynomial(poly3)\n",
    "p4 = Polynomial(poly4)\n",
    "p5 = Polynomial(poly5)"
   ],
   "metadata": {
    "collapsed": false
   }
  },
  {
   "cell_type": "markdown",
   "source": [
    "Printing instances of the `Polynomial` class outputs terms `coefficient * x^power` to aid readability"
   ],
   "metadata": {
    "collapsed": false
   }
  },
  {
   "cell_type": "code",
   "execution_count": 9,
   "outputs": [
    {
     "name": "stdout",
     "output_type": "stream",
     "text": [
      "p1: x^2 + 5.0 * x - 3.0\n"
     ]
    },
    {
     "data": {
      "text/plain": "{2: 1.0, 1: 5.0, 0: -3.0}"
     },
     "execution_count": 9,
     "metadata": {},
     "output_type": "execute_result"
    }
   ],
   "source": [
    "print(f\"p1: {p1}\")\n",
    "p1.coeff"
   ],
   "metadata": {
    "collapsed": false
   }
  },
  {
   "cell_type": "code",
   "execution_count": 10,
   "outputs": [
    {
     "name": "stdout",
     "output_type": "stream",
     "text": [
      "p2: 2.0 * x^3 + 2.0 * x^2 - 3.0 * x - 1.0\n"
     ]
    },
    {
     "data": {
      "text/plain": "{3: 2.0, 2: 2.0, 1: -3.0, 0: -1.0}"
     },
     "execution_count": 10,
     "metadata": {},
     "output_type": "execute_result"
    }
   ],
   "source": [
    "print(f\"p2: {p2}\")\n",
    "p2.coeff"
   ],
   "metadata": {
    "collapsed": false
   }
  },
  {
   "cell_type": "code",
   "execution_count": 11,
   "outputs": [
    {
     "name": "stdout",
     "output_type": "stream",
     "text": [
      "p3: 7.0 * x^8 + 3.0 * x^5 + 2.0 * x^3 + 2.0 * x - 9.0\n"
     ]
    },
    {
     "data": {
      "text/plain": "{8: 7.0, 5: 3.0, 3: 2.0, 1: 2.0, 0: -9.0}"
     },
     "execution_count": 11,
     "metadata": {},
     "output_type": "execute_result"
    }
   ],
   "source": [
    "print(f\"p3: {p3}\")\n",
    "p3.coeff"
   ],
   "metadata": {
    "collapsed": false
   }
  },
  {
   "cell_type": "code",
   "execution_count": 12,
   "outputs": [
    {
     "name": "stdout",
     "output_type": "stream",
     "text": [
      "p4: 5.0 * x^6 - 4.0 * x^3 + x^2 + 5.0 * x - 8.0\n"
     ]
    },
    {
     "data": {
      "text/plain": "{6: 5.0, 3: -4.0, 2: 1.0, 1: 5.0, 0: -8.0}"
     },
     "execution_count": 12,
     "metadata": {},
     "output_type": "execute_result"
    }
   ],
   "source": [
    "print(f\"p4: {p4}\")\n",
    "p4.coeff"
   ],
   "metadata": {
    "collapsed": false
   }
  },
  {
   "cell_type": "code",
   "execution_count": 13,
   "outputs": [
    {
     "name": "stdout",
     "output_type": "stream",
     "text": [
      "p5: 7.0 * x^9 + 3.0 * x^4 + 2.0 * x^2 + x - 2.0\n"
     ]
    },
    {
     "data": {
      "text/plain": "{9: 7.0, 4: 3.0, 2: 2.0, 1: 1.0, 0: -2.0}"
     },
     "execution_count": 13,
     "metadata": {},
     "output_type": "execute_result"
    }
   ],
   "source": [
    "print(f\"p5: {p5}\")\n",
    "p5.coeff"
   ],
   "metadata": {
    "collapsed": false
   }
  },
  {
   "cell_type": "markdown",
   "source": [
    "----"
   ],
   "metadata": {
    "collapsed": false
   }
  },
  {
   "cell_type": "markdown",
   "source": [
    "## Integer coefficient addition, subtraction and multiplication"
   ],
   "metadata": {
    "collapsed": false
   }
  },
  {
   "cell_type": "markdown",
   "source": [
    "Testing the output of `+`, `-` and `*` by iterating through the declared instances"
   ],
   "metadata": {
    "collapsed": false
   }
  },
  {
   "cell_type": "code",
   "execution_count": 16,
   "outputs": [
    {
     "name": "stdout",
     "output_type": "stream",
     "text": [
      "p1_add_p2: 2.0 * x^3 + 3.0 * x^2 + 2.0 * x - 4.0\n",
      "p1_sub_p2: -2.0 * x^3 - x^2 + 8.0 * x - 2.0\n",
      "p1_mul_p2: 2.0 * x^5 + 12.0 * x^4 + x^3 - 22.0 * x^2 + 4.0 * x + 3.0\n",
      "\n",
      "p1_add_p3: 7.0 * x^8 + 3.0 * x^5 + 2.0 * x^3 + x^2 + 7.0 * x - 12.0\n",
      "p1_sub_p3: -7.0 * x^8 - 3.0 * x^5 - 2.0 * x^3 + x^2 + 3.0 * x + 6.0\n",
      "p1_mul_p3: 7.0 * x^10 + 35.0 * x^9 - 21.0 * x^8 + 3.0 * x^7 + 15.0 * x^6 - 7.0 * x^5 + 10.0 * x^4 - 4.0 * x^3 + x^2 - 51.0 * x + 27.0\n",
      "\n",
      "p1_add_p4: 5.0 * x^6 - 4.0 * x^3 + 2.0 * x^2 + 10.0 * x - 11.0\n",
      "p1_sub_p4: -5.0 * x^6 + 4.0 * x^3 + 0.0 * x^2 + 0.0 * x + 5.0\n",
      "p1_mul_p4: 5.0 * x^8 + 25.0 * x^7 - 15.0 * x^6 - 4.0 * x^5 - 19.0 * x^4 + 22.0 * x^3 + 14.0 * x^2 - 55.0 * x + 24.0\n",
      "\n",
      "p1_add_p5: 7.0 * x^9 + 3.0 * x^4 + 3.0 * x^2 + 6.0 * x - 5.0\n",
      "p1_sub_p5: -7.0 * x^9 - 3.0 * x^4 - x^2 + 4.0 * x - 1.0\n",
      "p1_mul_p5: 7.0 * x^11 + 35.0 * x^10 - 21.0 * x^9 + 3.0 * x^6 + 15.0 * x^5 - 7.0 * x^4 + 11.0 * x^3 - 3.0 * x^2 - 13.0 * x + 6.0\n",
      "\n"
     ]
    }
   ],
   "source": [
    "polynomials = [p2, p3, p4, p5]\n",
    "\n",
    "for idx, polynomial in enumerate(polynomials, start=2):\n",
    "    p_add = p1 + polynomial\n",
    "    p_sub = p1 - polynomial\n",
    "    p_mul = p1 * polynomial\n",
    "\n",
    "    print(f\"p1_add_p{idx}: {p_add}\")\n",
    "    print(f\"p1_sub_p{idx}: {p_sub}\")\n",
    "    print(f\"p1_mul_p{idx}: {p_mul}\")\n",
    "    print()"
   ],
   "metadata": {
    "collapsed": false
   }
  },
  {
   "cell_type": "markdown",
   "source": [
    "By Maxima"
   ],
   "metadata": {
    "collapsed": false
   }
  },
  {
   "cell_type": "markdown",
   "source": [
    "<img src=\"images/maxima_oper.png\"/>"
   ],
   "metadata": {
    "collapsed": false
   }
  },
  {
   "cell_type": "markdown",
   "source": [
    "----"
   ],
   "metadata": {
    "collapsed": false
   }
  },
  {
   "cell_type": "markdown",
   "source": [
    "## Floating point coefficient addition, subtraction & multiplication"
   ],
   "metadata": {
    "collapsed": false
   }
  },
  {
   "cell_type": "markdown",
   "source": [
    "Creating random floating point coefficients"
   ],
   "metadata": {
    "collapsed": false
   }
  },
  {
   "cell_type": "code",
   "execution_count": 24,
   "outputs": [],
   "source": [
    "import random\n",
    "\n",
    "p_7 = decompose_polynomial(f\"{random.uniform(1, 10):.2f}*x**2  +{random.uniform(1, 10):.2f}*x+{random.uniform(1, 10):.2f}\")\n",
    "p_8 = decompose_polynomial(f\"{random.uniform(1, 10):.2f}*x^3+{random.uniform(1, 10):.2f}*x^2+{random.uniform(1, 10):.2f}*x+{random.uniform(1, 10):.2f}\")\n",
    "p_9 = decompose_polynomial(f\"{random.uniform(1, 10):.2f}*x**8  + {random.uniform(1, 10):.2f}*x^5+{random.uniform(1, 10):.2f}*x^3+{random.uniform(1, 10):.2f}*x+{random.uniform(1, 10):.2f}\")\n",
    "p_10 = decompose_polynomial(f\"{random.uniform(1, 10):.2f}*x^6 + {random.uniform(1, 10):.2f}*x^3+{random.uniform(1, 10):.2f}*x^2+{random.uniform(1, 10):.2f}*x+{random.uniform(1, 10):.2f}\")\n",
    "p_11 = decompose_polynomial(f\"{random.uniform(1, 10):.2f}*x^9+{random.uniform(1, 10):.2f}*x^4+{random.uniform(1, 10):.2f}*x^2+{random.uniform(1, 10):.2f}*x+{random.uniform(1, 10):.2f}\")"
   ],
   "metadata": {
    "collapsed": false
   }
  },
  {
   "cell_type": "code",
   "execution_count": 25,
   "outputs": [],
   "source": [
    "p7 = Polynomial(p_7)\n",
    "p8 = Polynomial(p_8)\n",
    "p9 = Polynomial(p_9)\n",
    "p10 = Polynomial(p_10)\n",
    "p11 = Polynomial(p_11)"
   ],
   "metadata": {
    "collapsed": false
   }
  },
  {
   "cell_type": "code",
   "execution_count": 26,
   "outputs": [
    {
     "name": "stdout",
     "output_type": "stream",
     "text": [
      "p7: 4.67 * x^2 + 7.47 * x + 3.39\n",
      "p8: 2.52 * x^3 + 4.92 * x^2 + 7.03 * x + 6.74\n",
      "p9: 2.67 * x^8 + 9.09 * x^5 + 9.19 * x^3 + 4.26 * x + 9.72\n",
      "p10: 3.79 * x^6 + 1.58 * x^3 + 8.94 * x^2 + 6.44 * x + 6.35\n",
      "p11: 6.19 * x^9 + 6.37 * x^4 + 6.03 * x^2 + 4.21 * x + 7.81\n"
     ]
    }
   ],
   "source": [
    "print(f\"p7: {p7}\")\n",
    "print(f\"p8: {p8}\")\n",
    "print(f\"p9: {p9}\")\n",
    "print(f\"p10: {p10}\")\n",
    "print(f\"p11: {p11}\")"
   ],
   "metadata": {
    "collapsed": false
   }
  },
  {
   "cell_type": "code",
   "execution_count": 27,
   "outputs": [
    {
     "name": "stdout",
     "output_type": "stream",
     "text": [
      "p7_add_p8: 2.52 * x^3 + 9.59 * x^2 + 14.5 * x + 10.13\n",
      "p7_sub_p8: -2.52 * x^3 - 0.25 * x^2 + 0.44 * x - 3.35\n",
      "p7_mul_p8: 11.7684 * x^5 + 41.8008 * x^4 + 78.1253 * x^3 + 100.6687 * x^2 + 74.1795 * x + 22.8486\n",
      "\n",
      "p7_add_p9: 2.67 * x^8 + 9.09 * x^5 + 9.19 * x^3 + 4.67 * x^2 + 11.73 * x + 13.110000000000001\n",
      "p7_sub_p9: -2.67 * x^8 - 9.09 * x^5 - 9.19 * x^3 + 4.67 * x^2 + 3.21 * x - 6.33\n",
      "p7_mul_p9: 12.4689 * x^10 + 19.9449 * x^9 + 9.0513 * x^8 + 42.4503 * x^7 + 67.9023 * x^6 + 73.7324 * x^5 + 68.6493 * x^4 + 51.0483 * x^3 + 77.2146 * x^2 + 87.0498 * x + 32.9508\n",
      "\n",
      "p7_add_p10: 3.79 * x^6 + 1.58 * x^3 + 13.61 * x^2 + 13.91 * x + 9.74\n",
      "p7_sub_p10: -3.79 * x^6 - 1.58 * x^3 - 4.27 * x^2 + 1.03 * x - 2.9599999999999995\n",
      "p7_mul_p10: 17.6993 * x^8 + 28.3113 * x^7 + 12.8481 * x^6 + 7.3786 * x^5 + 53.5524 * x^4 + 102.2128 * x^3 + 108.0679 * x^2 + 69.2661 * x + 21.5265\n",
      "\n",
      "p7_add_p11: 6.19 * x^9 + 6.37 * x^4 + 10.7 * x^2 + 11.68 * x + 11.2\n",
      "p7_sub_p11: -6.19 * x^9 - 6.37 * x^4 - 1.36 * x^2 + 3.26 * x - 4.42\n",
      "p7_mul_p11: 28.9073 * x^11 + 46.2393 * x^10 + 20.9841 * x^9 + 29.7479 * x^6 + 47.5839 * x^5 + 49.7544 * x^4 + 64.7048 * x^3 + 88.3631 * x^2 + 72.6126 * x + 26.4759\n",
      "\n"
     ]
    }
   ],
   "source": [
    "polynomials = [p8, p9, p10, p11]\n",
    "\n",
    "for idx, polynomial in enumerate(polynomials, start=8):\n",
    "    p_add = p7 + polynomial\n",
    "    p_sub = p7 - polynomial\n",
    "    p_mul = p7 * polynomial\n",
    "\n",
    "    print(f\"p7_add_p{idx}: {p_add}\")\n",
    "    print(f\"p7_sub_p{idx}: {p_sub}\")\n",
    "    print(f\"p7_mul_p{idx}: {p_mul}\")\n",
    "    print()"
   ],
   "metadata": {
    "collapsed": false
   }
  },
  {
   "cell_type": "markdown",
   "source": [
    "Maxima output;"
   ],
   "metadata": {
    "collapsed": false
   }
  },
  {
   "cell_type": "markdown",
   "source": [
    "<img src=\"images/maxima_rand_oper.png\"/>"
   ],
   "metadata": {
    "collapsed": false
   }
  },
  {
   "cell_type": "code",
   "execution_count": 28,
   "outputs": [
    {
     "data": {
      "text/plain": "{11: 28.907300000000003,\n 6: 29.7479,\n 4: 49.754400000000004,\n 3: 64.7048,\n 2: 88.36309999999999,\n 10: 46.2393,\n 5: 47.5839,\n 1: 72.6126,\n 9: 20.9841,\n 0: 26.4759}"
     },
     "execution_count": 28,
     "metadata": {},
     "output_type": "execute_result"
    }
   ],
   "source": [
    "# We can extract the coefficient dictionary associated with operations\n",
    "p7_mul_p11 = p7 * p11\n",
    "p7_mul_p11.coeff"
   ],
   "metadata": {
    "collapsed": false
   }
  },
  {
   "cell_type": "markdown",
   "source": [
    "The `__str__` method has been updated to print maximum of 4 decimal places. However, full representation remains in `instance.coeff`"
   ],
   "metadata": {
    "collapsed": false
   }
  },
  {
   "cell_type": "code",
   "execution_count": 29,
   "outputs": [
    {
     "name": "stdout",
     "output_type": "stream",
     "text": [
      "28.9073 * x^11 + 46.2393 * x^10 + 20.9841 * x^9 + 29.7479 * x^6 + 47.5839 * x^5 + 49.7544 * x^4 + 64.7048 * x^3 + 88.3631 * x^2 + 72.6126 * x + 26.4759\n"
     ]
    }
   ],
   "source": [
    "print(p7_mul_p11)"
   ],
   "metadata": {
    "collapsed": false
   }
  },
  {
   "cell_type": "markdown",
   "source": [
    "----"
   ],
   "metadata": {
    "collapsed": false
   }
  },
  {
   "cell_type": "markdown",
   "source": [
    "## Quadratic"
   ],
   "metadata": {
    "collapsed": false
   }
  },
  {
   "cell_type": "code",
   "execution_count": 36,
   "outputs": [
    {
     "name": "stdout",
     "output_type": "stream",
     "text": [
      "x^2 + 5.0 * x - 3.0\n"
     ]
    }
   ],
   "source": [
    "print(p1)"
   ],
   "metadata": {
    "collapsed": false
   }
  },
  {
   "cell_type": "code",
   "execution_count": 37,
   "outputs": [
    {
     "data": {
      "text/plain": "21.0"
     },
     "execution_count": 37,
     "metadata": {},
     "output_type": "execute_result"
    }
   ],
   "source": [
    "# calling to evaluate at x = 3\n",
    "p1(3)"
   ],
   "metadata": {
    "collapsed": false
   }
  },
  {
   "cell_type": "code",
   "execution_count": 38,
   "outputs": [
    {
     "data": {
      "text/plain": "<Figure size 640x480 with 1 Axes>",
      "image/png": "[encoded data removed]"
     },
     "metadata": {},
     "output_type": "display_data"
    }
   ],
   "source": [
    "# Plot from [x, -10, 5]\n",
    "p1.plot(-10, 5)"
   ],
   "metadata": {
    "collapsed": false
   }
  },
  {
   "cell_type": "markdown",
   "source": [
    "The plot aids the initial guess `x0` in `newton` which returns tuple (`root`, `converged`, `iterations`)"
   ],
   "metadata": {
    "collapsed": false
   }
  },
  {
   "cell_type": "code",
   "execution_count": 39,
   "outputs": [
    {
     "data": {
      "text/plain": "(0.5413812785388128, True, 1)"
     },
     "execution_count": 39,
     "metadata": {},
     "output_type": "execute_result"
    }
   ],
   "source": [
    "p1.newton(0.5)"
   ],
   "metadata": {
    "collapsed": false
   }
  },
  {
   "cell_type": "code",
   "execution_count": 40,
   "outputs": [
    {
     "data": {
      "text/plain": "(-5.541381315636438, True, 2)"
     },
     "execution_count": 40,
     "metadata": {},
     "output_type": "execute_result"
    }
   ],
   "source": [
    "p1.newton(-5)"
   ],
   "metadata": {
    "collapsed": false
   }
  },
  {
   "cell_type": "code",
   "execution_count": 41,
   "outputs": [
    {
     "data": {
      "text/plain": "(-5.541382028844698, True, 5)"
     },
     "execution_count": 41,
     "metadata": {},
     "output_type": "execute_result"
    }
   ],
   "source": [
    "# More iterations to converge when further from root\n",
    "p1.newton(-15)"
   ],
   "metadata": {
    "collapsed": false
   }
  },
  {
   "cell_type": "markdown",
   "source": [
    "Roots confirmed in Maxima CAS"
   ],
   "metadata": {
    "collapsed": false
   }
  },
  {
   "cell_type": "markdown",
   "source": [
    "<img src=\"images/maxima_quad.png\"/>"
   ],
   "metadata": {
    "collapsed": false
   }
  },
  {
   "cell_type": "markdown",
   "source": [
    "#### Calculus"
   ],
   "metadata": {
    "collapsed": false
   }
  },
  {
   "cell_type": "code",
   "execution_count": 42,
   "outputs": [
    {
     "name": "stdout",
     "output_type": "stream",
     "text": [
      "2 * x + 5.0\n"
     ]
    }
   ],
   "source": [
    "# Derivative\n",
    "dp1dx = p1.derivative()\n",
    "print(dp1dx)"
   ],
   "metadata": {
    "collapsed": false
   }
  },
  {
   "cell_type": "code",
   "execution_count": 43,
   "outputs": [
    {
     "data": {
      "text/plain": "7.4"
     },
     "execution_count": 43,
     "metadata": {},
     "output_type": "execute_result"
    }
   ],
   "source": [
    "# we can call although trivial for this example\n",
    "dp1dx(1.2)"
   ],
   "metadata": {
    "collapsed": false
   }
  },
  {
   "cell_type": "code",
   "execution_count": 44,
   "outputs": [
    {
     "data": {
      "text/plain": "<Figure size 640x480 with 1 Axes>",
      "image/png": "[encoded data removed]"
     },
     "metadata": {},
     "output_type": "display_data"
    }
   ],
   "source": [
    "# we can also plot the derivative\n",
    "dp1dx.plot(-5, 0)"
   ],
   "metadata": {
    "collapsed": false
   }
  },
  {
   "cell_type": "markdown",
   "source": [
    "----"
   ],
   "metadata": {
    "collapsed": false
   }
  },
  {
   "cell_type": "markdown",
   "source": [
    "## Cubic"
   ],
   "metadata": {
    "collapsed": false
   }
  },
  {
   "cell_type": "code",
   "execution_count": 45,
   "outputs": [
    {
     "name": "stdout",
     "output_type": "stream",
     "text": [
      "2.0 * x^3 + 2.0 * x^2 - 3.0 * x - 1.0\n"
     ]
    }
   ],
   "source": [
    "print(p2)"
   ],
   "metadata": {
    "collapsed": false
   }
  },
  {
   "cell_type": "code",
   "execution_count": 46,
   "outputs": [
    {
     "data": {
      "text/plain": "<Figure size 640x480 with 1 Axes>",
      "image/png": "[encoded data removed]"
     },
     "metadata": {},
     "output_type": "display_data"
    }
   ],
   "source": [
    "p2.plot(-2, 2)"
   ],
   "metadata": {
    "collapsed": false
   }
  },
  {
   "cell_type": "markdown",
   "source": [
    "The plot shows three roots $\\in \\mathbb{R}$"
   ],
   "metadata": {
    "collapsed": false
   }
  },
  {
   "cell_type": "markdown",
   "source": [
    "`newton()` has been tweaked to handle;\n",
    "- An instance where the derivative is zero. We raise an exception to indicate that Newton's method failed to converge\n",
    "- A check for the initial guess being very close to a root where we directly return said root."
   ],
   "metadata": {
    "collapsed": false
   }
  },
  {
   "cell_type": "code",
   "execution_count": 47,
   "outputs": [
    {
     "data": {
      "text/plain": "(-1.707131490726658, True, 3)"
     },
     "execution_count": 47,
     "metadata": {},
     "output_type": "execute_result"
    }
   ],
   "source": [
    "p2.newton(-1.5)"
   ],
   "metadata": {
    "collapsed": false
   }
  },
  {
   "cell_type": "code",
   "execution_count": 48,
   "outputs": [
    {
     "data": {
      "text/plain": "(-0.2928970470869912, True, 2)"
     },
     "execution_count": 48,
     "metadata": {},
     "output_type": "execute_result"
    }
   ],
   "source": [
    "p2.newton(-0.5)"
   ],
   "metadata": {
    "collapsed": false
   }
  },
  {
   "cell_type": "code",
   "execution_count": 49,
   "outputs": [
    {
     "data": {
      "text/plain": "(1.0000111880031397, True, 2)"
     },
     "execution_count": 49,
     "metadata": {},
     "output_type": "execute_result"
    }
   ],
   "source": [
    "p2.newton(0.95)"
   ],
   "metadata": {
    "collapsed": false
   }
  },
  {
   "cell_type": "code",
   "execution_count": 35,
   "outputs": [
    {
     "data": {
      "text/plain": "(1.0, True, 0)"
     },
     "execution_count": 35,
     "metadata": {},
     "output_type": "execute_result"
    }
   ],
   "source": [
    "# Root immediately returned without iteration\n",
    "p2.newton(1.0)"
   ],
   "metadata": {
    "collapsed": false
   }
  },
  {
   "cell_type": "markdown",
   "source": [
    "<img src=\"images/maxima_cube.png\"/>"
   ],
   "metadata": {
    "collapsed": false
   }
  },
  {
   "cell_type": "markdown",
   "source": [
    "----"
   ],
   "metadata": {
    "collapsed": false
   }
  },
  {
   "cell_type": "markdown",
   "source": [
    "#### Calculus"
   ],
   "metadata": {
    "collapsed": false
   }
  },
  {
   "cell_type": "code",
   "execution_count": 50,
   "outputs": [
    {
     "name": "stdout",
     "output_type": "stream",
     "text": [
      "6.0 * x^2 + 4.0 * x - 3.0\n"
     ]
    }
   ],
   "source": [
    "# Derivative\n",
    "dp2dx = p2.derivative()\n",
    "print(dp2dx)"
   ],
   "metadata": {
    "collapsed": false
   }
  },
  {
   "cell_type": "code",
   "execution_count": 51,
   "outputs": [
    {
     "data": {
      "text/plain": "<Figure size 640x480 with 1 Axes>",
      "image/png": "[encoded data removed]"
     },
     "metadata": {},
     "output_type": "display_data"
    }
   ],
   "source": [
    "dp2dx.plot(-2, 2)"
   ],
   "metadata": {
    "collapsed": false
   }
  },
  {
   "cell_type": "code",
   "execution_count": 52,
   "outputs": [
    {
     "name": "stdout",
     "output_type": "stream",
     "text": [
      "(-1.1151315789473684, True, 2)\n",
      "(0.44840425531914896, True, 2)\n"
     ]
    }
   ],
   "source": [
    "# Finding roots of quadratic function which will be the stationary points of f\n",
    "\n",
    "root1 = dp2dx.newton(-1.0)\n",
    "print(root1)\n",
    "\n",
    "root2 = dp2dx.newton(0.5)\n",
    "print(root2)"
   ],
   "metadata": {
    "collapsed": false
   }
  },
  {
   "cell_type": "markdown",
   "source": [
    "We can implement the second derivative test by calling the first element of tuple `root_n` to the second derivative\n",
    "\n",
    "- if $f''(x) < 0,$ then $f$ has a local minimum at $x$\n",
    "- if $f''(x) > 0,$ then $f$ has a local maximum at $x$\n",
    "- if $f''(x) = 0,$ then the test is inconclusive"
   ],
   "metadata": {
    "collapsed": false
   }
  },
  {
   "cell_type": "code",
   "execution_count": 53,
   "outputs": [
    {
     "name": "stdout",
     "output_type": "stream",
     "text": [
      "12.0 * x + 4.0\n"
     ]
    }
   ],
   "source": [
    "# second derivative\n",
    "d2dp2dx = dp2dx.derivative()\n",
    "print(d2dp2dx)"
   ],
   "metadata": {
    "collapsed": false
   }
  },
  {
   "cell_type": "code",
   "execution_count": 54,
   "outputs": [
    {
     "data": {
      "text/plain": "-9.381578947368421"
     },
     "execution_count": 54,
     "metadata": {},
     "output_type": "execute_result"
    }
   ],
   "source": [
    "sp1 = d2dp2dx(root1[0])\n",
    "sp1"
   ],
   "metadata": {
    "collapsed": false
   }
  },
  {
   "cell_type": "code",
   "execution_count": 55,
   "outputs": [
    {
     "data": {
      "text/plain": "9.380851063829788"
     },
     "execution_count": 55,
     "metadata": {},
     "output_type": "execute_result"
    }
   ],
   "source": [
    "sp2 = d2dp2dx(root2[0])\n",
    "sp2"
   ],
   "metadata": {
    "collapsed": false
   }
  },
  {
   "cell_type": "code",
   "execution_count": 56,
   "outputs": [
    {
     "name": "stdout",
     "output_type": "stream",
     "text": [
      "The stationary point -1.115 is a local minimum\n",
      "The stationary point 0.448 is a local maximum\n"
     ]
    }
   ],
   "source": [
    "roots = [root1[0], root2[0]]\n",
    "sp_s = [sp1, sp2]\n",
    "for i, sp in enumerate(sp_s):\n",
    "    if sp < 0:\n",
    "        print(f\"The stationary point {round(roots[i], 3)} is a local minimum\")\n",
    "    elif sp > 0:\n",
    "        print(f\"The stationary point {round(roots[i], 3)} is a local maximum\")\n",
    "    else:\n",
    "        print(\"The second derivative test is inconclusive\")"
   ],
   "metadata": {
    "collapsed": false
   }
  },
  {
   "cell_type": "code",
   "execution_count": 57,
   "outputs": [
    {
     "data": {
      "text/plain": "<Figure size 640x480 with 1 Axes>",
      "image/png": "[encoded data removed]"
     },
     "metadata": {},
     "output_type": "display_data"
    }
   ],
   "source": [
    "# As can be seen from the plot of f(x)\n",
    "p2.plot(-2, 1.5)"
   ],
   "metadata": {
    "collapsed": false
   }
  },
  {
   "cell_type": "markdown",
   "source": [
    "----"
   ],
   "metadata": {
    "collapsed": false
   }
  },
  {
   "cell_type": "markdown",
   "source": [
    "### Exceptions"
   ],
   "metadata": {
    "collapsed": false
   }
  },
  {
   "cell_type": "code",
   "execution_count": 6,
   "outputs": [
    {
     "ename": "ValueError",
     "evalue": "Please enter variable as 'x'",
     "output_type": "error",
     "traceback": [
      "\u001B[0;31m---------------------------------------------------------------------------\u001B[0m",
      "\u001B[0;31mValueError\u001B[0m                                Traceback (most recent call last)",
      "\u001B[0;32m/var/folders/s9/z74lxq2n7d9ct45y9_ffymd00000gn/T/ipykernel_26557/90962417.py\u001B[0m in \u001B[0;36m<module>\u001B[0;34m\u001B[0m\n\u001B[1;32m      1\u001B[0m \u001B[0;31m# Check exceptions in decompose_polynomial function\u001B[0m\u001B[0;34m\u001B[0m\u001B[0;34m\u001B[0m\u001B[0m\n\u001B[0;32m----> 2\u001B[0;31m \u001B[0mpoly\u001B[0m \u001B[0;34m=\u001B[0m \u001B[0mdecompose_polynomial\u001B[0m\u001B[0;34m(\u001B[0m\u001B[0;34m\"-3*t**5 +2*t**3 + t - 9\"\u001B[0m\u001B[0;34m)\u001B[0m\u001B[0;34m\u001B[0m\u001B[0;34m\u001B[0m\u001B[0m\n\u001B[0m",
      "\u001B[0;32m~/Documents/Study/Stage3/Programming/Github/polynomial/py_files/poly_dict.py\u001B[0m in \u001B[0;36mdecompose_polynomial\u001B[0;34m(formula)\u001B[0m\n\u001B[1;32m     12\u001B[0m \u001B[0;34m\u001B[0m\u001B[0m\n\u001B[1;32m     13\u001B[0m     \u001B[0;32mif\u001B[0m \u001B[0;34m'x'\u001B[0m \u001B[0;32mnot\u001B[0m \u001B[0;32min\u001B[0m \u001B[0mformula\u001B[0m\u001B[0;34m:\u001B[0m\u001B[0;34m\u001B[0m\u001B[0;34m\u001B[0m\u001B[0m\n\u001B[0;32m---> 14\u001B[0;31m         \u001B[0;32mraise\u001B[0m \u001B[0mValueError\u001B[0m\u001B[0;34m(\u001B[0m\u001B[0;34m\"Please enter variable as 'x'\"\u001B[0m\u001B[0;34m)\u001B[0m\u001B[0;34m\u001B[0m\u001B[0;34m\u001B[0m\u001B[0m\n\u001B[0m\u001B[1;32m     15\u001B[0m \u001B[0;34m\u001B[0m\u001B[0m\n\u001B[1;32m     16\u001B[0m     terms = re.findall(r'([+\\-]?\\s*(?:\\d*\\.\\d+|\\d+\\.\\d*|\\.\\d+|\\d+(?:\\.\\d*)?)\\*?x\\*\\*\\d+|'\n",
      "\u001B[0;31mValueError\u001B[0m: Please enter variable as 'x'"
     ]
    }
   ],
   "source": [
    "# Check exceptions in decompose_polynomial function\n",
    "poly = decompose_polynomial(\"-3*t**5 +2*t**3 + t - 9\")"
   ],
   "metadata": {
    "collapsed": false
   }
  },
  {
   "cell_type": "markdown",
   "source": [
    "### Value test for `Polynomial`. Is input a dictionary?"
   ],
   "metadata": {
    "collapsed": false
   }
  },
  {
   "cell_type": "code",
   "execution_count": 7,
   "outputs": [
    {
     "ename": "ValueError",
     "evalue": "Coefficients must be provided as a dictionary.",
     "output_type": "error",
     "traceback": [
      "\u001B[0;31m---------------------------------------------------------------------------\u001B[0m",
      "\u001B[0;31mValueError\u001B[0m                                Traceback (most recent call last)",
      "\u001B[0;32m/var/folders/s9/z74lxq2n7d9ct45y9_ffymd00000gn/T/ipykernel_26557/2687469479.py\u001B[0m in \u001B[0;36m<module>\u001B[0;34m\u001B[0m\n\u001B[0;32m----> 1\u001B[0;31m \u001B[0mp4\u001B[0m \u001B[0;34m=\u001B[0m \u001B[0mPolynomial\u001B[0m\u001B[0;34m(\u001B[0m\u001B[0;36m4\u001B[0m\u001B[0;34m)\u001B[0m\u001B[0;34m\u001B[0m\u001B[0;34m\u001B[0m\u001B[0m\n\u001B[0m",
      "\u001B[0;32m~/Documents/Study/Stage3/Programming/Github/polynomial/py_files/polynomial_class.py\u001B[0m in \u001B[0;36m__init__\u001B[0;34m(self, coefficients)\u001B[0m\n\u001B[1;32m     35\u001B[0m     \u001B[0;32mdef\u001B[0m \u001B[0m__init__\u001B[0m\u001B[0;34m(\u001B[0m\u001B[0mself\u001B[0m\u001B[0;34m,\u001B[0m \u001B[0mcoefficients\u001B[0m\u001B[0;34m:\u001B[0m \u001B[0mdict\u001B[0m\u001B[0;34m)\u001B[0m\u001B[0;34m:\u001B[0m\u001B[0;34m\u001B[0m\u001B[0;34m\u001B[0m\u001B[0m\n\u001B[1;32m     36\u001B[0m         \u001B[0;32mif\u001B[0m \u001B[0;32mnot\u001B[0m \u001B[0misinstance\u001B[0m\u001B[0;34m(\u001B[0m\u001B[0mcoefficients\u001B[0m\u001B[0;34m,\u001B[0m \u001B[0mdict\u001B[0m\u001B[0;34m)\u001B[0m\u001B[0;34m:\u001B[0m\u001B[0;34m\u001B[0m\u001B[0;34m\u001B[0m\u001B[0m\n\u001B[0;32m---> 37\u001B[0;31m             \u001B[0;32mraise\u001B[0m \u001B[0mValueError\u001B[0m\u001B[0;34m(\u001B[0m\u001B[0;34m\"Coefficients must be provided as a dictionary.\"\u001B[0m\u001B[0;34m)\u001B[0m\u001B[0;34m\u001B[0m\u001B[0;34m\u001B[0m\u001B[0m\n\u001B[0m\u001B[1;32m     38\u001B[0m \u001B[0;34m\u001B[0m\u001B[0m\n\u001B[1;32m     39\u001B[0m         \u001B[0;32mfor\u001B[0m \u001B[0mpower\u001B[0m\u001B[0;34m,\u001B[0m \u001B[0mcoefficient\u001B[0m \u001B[0;32min\u001B[0m \u001B[0mcoefficients\u001B[0m\u001B[0;34m.\u001B[0m\u001B[0mitems\u001B[0m\u001B[0;34m(\u001B[0m\u001B[0;34m)\u001B[0m\u001B[0;34m:\u001B[0m\u001B[0;34m\u001B[0m\u001B[0;34m\u001B[0m\u001B[0m\n",
      "\u001B[0;31mValueError\u001B[0m: Coefficients must be provided as a dictionary."
     ]
    }
   ],
   "source": [
    "p4 = Polynomial(4)"
   ],
   "metadata": {
    "collapsed": false
   }
  },
  {
   "cell_type": "code",
   "execution_count": 8,
   "outputs": [
    {
     "ename": "ValueError",
     "evalue": "Powers must be integers and coefficients may be integers or floats.",
     "output_type": "error",
     "traceback": [
      "\u001B[0;31m---------------------------------------------------------------------------\u001B[0m",
      "\u001B[0;31mValueError\u001B[0m                                Traceback (most recent call last)",
      "\u001B[0;32m/var/folders/s9/z74lxq2n7d9ct45y9_ffymd00000gn/T/ipykernel_26557/4116435567.py\u001B[0m in \u001B[0;36m<module>\u001B[0;34m\u001B[0m\n\u001B[0;32m----> 1\u001B[0;31m \u001B[0mp5\u001B[0m \u001B[0;34m=\u001B[0m \u001B[0mPolynomial\u001B[0m\u001B[0;34m(\u001B[0m\u001B[0;34m{\u001B[0m\u001B[0;34m'2'\u001B[0m\u001B[0;34m:\u001B[0m \u001B[0;36m1\u001B[0m\u001B[0;34m,\u001B[0m \u001B[0;36m1\u001B[0m\u001B[0;34m:\u001B[0m \u001B[0;36m5\u001B[0m\u001B[0;34m,\u001B[0m \u001B[0;36m0\u001B[0m\u001B[0;34m:\u001B[0m \u001B[0;34m-\u001B[0m\u001B[0;36m3\u001B[0m\u001B[0;34m}\u001B[0m\u001B[0;34m)\u001B[0m\u001B[0;34m\u001B[0m\u001B[0;34m\u001B[0m\u001B[0m\n\u001B[0m",
      "\u001B[0;32m~/Documents/Study/Stage3/Programming/Github/polynomial/py_files/polynomial_class.py\u001B[0m in \u001B[0;36m__init__\u001B[0;34m(self, coefficients)\u001B[0m\n\u001B[1;32m     39\u001B[0m         \u001B[0;32mfor\u001B[0m \u001B[0mpower\u001B[0m\u001B[0;34m,\u001B[0m \u001B[0mcoefficient\u001B[0m \u001B[0;32min\u001B[0m \u001B[0mcoefficients\u001B[0m\u001B[0;34m.\u001B[0m\u001B[0mitems\u001B[0m\u001B[0;34m(\u001B[0m\u001B[0;34m)\u001B[0m\u001B[0;34m:\u001B[0m\u001B[0;34m\u001B[0m\u001B[0;34m\u001B[0m\u001B[0m\n\u001B[1;32m     40\u001B[0m             \u001B[0;32mif\u001B[0m \u001B[0;32mnot\u001B[0m \u001B[0;34m(\u001B[0m\u001B[0misinstance\u001B[0m\u001B[0;34m(\u001B[0m\u001B[0mpower\u001B[0m\u001B[0;34m,\u001B[0m \u001B[0mint\u001B[0m\u001B[0;34m)\u001B[0m \u001B[0;32mand\u001B[0m \u001B[0misinstance\u001B[0m\u001B[0;34m(\u001B[0m\u001B[0mcoefficient\u001B[0m\u001B[0;34m,\u001B[0m \u001B[0;34m(\u001B[0m\u001B[0mint\u001B[0m\u001B[0;34m,\u001B[0m \u001B[0mfloat\u001B[0m\u001B[0;34m)\u001B[0m\u001B[0;34m)\u001B[0m\u001B[0;34m)\u001B[0m\u001B[0;34m:\u001B[0m\u001B[0;34m\u001B[0m\u001B[0;34m\u001B[0m\u001B[0m\n\u001B[0;32m---> 41\u001B[0;31m                 \u001B[0;32mraise\u001B[0m \u001B[0mValueError\u001B[0m\u001B[0;34m(\u001B[0m\u001B[0;34m\"Powers must be integers and coefficients may be integers or floats.\"\u001B[0m\u001B[0;34m)\u001B[0m\u001B[0;34m\u001B[0m\u001B[0;34m\u001B[0m\u001B[0m\n\u001B[0m\u001B[1;32m     42\u001B[0m \u001B[0;34m\u001B[0m\u001B[0m\n\u001B[1;32m     43\u001B[0m         \u001B[0mself\u001B[0m\u001B[0;34m.\u001B[0m\u001B[0m_coeff\u001B[0m \u001B[0;34m=\u001B[0m \u001B[0mcoefficients\u001B[0m\u001B[0;34m\u001B[0m\u001B[0;34m\u001B[0m\u001B[0m\n",
      "\u001B[0;31mValueError\u001B[0m: Powers must be integers and coefficients may be integers or floats."
     ]
    }
   ],
   "source": [
    "p5 = Polynomial({'2': 1, 1: 5, 0: -3})"
   ],
   "metadata": {
    "collapsed": false
   }
  }
 ],
 "metadata": {
  "kernelspec": {
   "display_name": "Python 3",
   "language": "python",
   "name": "python3"
  },
  "language_info": {
   "codemirror_mode": {
    "name": "ipython",
    "version": 2
   },
   "file_extension": ".py",
   "mimetype": "text/x-python",
   "name": "python",
   "nbconvert_exporter": "python",
   "pygments_lexer": "ipython2",
   "version": "2.7.6"
  }
 },
 "nbformat": 4,
 "nbformat_minor": 0
}
